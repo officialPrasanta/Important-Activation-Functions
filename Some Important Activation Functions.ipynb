{
 "cells": [
  {
   "cell_type": "markdown",
   "id": "c72f1399",
   "metadata": {},
   "source": [
    "## Some Important Activation Functions:\n",
    "\n",
    "In ML, a Activation Function is a triggering functions that decide whether a neuron or node should activate or not.\n",
    "\n",
    "1. **Step Function**\n",
    "1. **Sigmoid Function**\n",
    "1. **ReLU**\n",
    "1. **Leaky ReLU**"
   ]
  },
  {
   "cell_type": "code",
   "execution_count": 32,
   "id": "27a321f5",
   "metadata": {},
   "outputs": [],
   "source": [
    "import matplotlib.pyplot as plt\n",
    "import math\n",
    "%matplotlib inline"
   ]
  },
  {
   "cell_type": "code",
   "execution_count": 3,
   "id": "658b6176",
   "metadata": {},
   "outputs": [],
   "source": [
    "#input arr\n",
    "x = [-8, -7.2, -5.6, -2.6, -2.2, -2, -1.7, -1.4, -1.3, -0.9, -0.6, 0, 1, 2.1, 2.9, 4.1, 5, 5.1, 6, 6.9, 7, 7.1]"
   ]
  },
  {
   "cell_type": "markdown",
   "id": "3c43c1fa",
   "metadata": {},
   "source": [
    "**1. Step Function:**\n",
    "Step Function or Staircase Function is a piecewise-defined function which have two sub functions:\n",
    "\n",
    "$$ f(x)=   \\left\\{\n",
    "\\begin{array}{ll}\n",
    "1 & x>=0 \\\\\n",
    "      0 & x<0\\\\\n",
    "\\end{array} \n",
    "\\right.  $$\n"
   ]
  },
  {
   "cell_type": "code",
   "execution_count": 42,
   "id": "23636f6e",
   "metadata": {},
   "outputs": [
    {
     "data": {
      "text/plain": [
       "[0, 0, 0, 0, 0, 0, 0, 0, 0, 0, 0, 1, 1, 1, 1, 1, 1, 1, 1, 1, 1, 1]"
      ]
     },
     "execution_count": 42,
     "metadata": {},
     "output_type": "execute_result"
    }
   ],
   "source": [
    "#output\n",
    "\n",
    "y = [1 if i >=0 else 0 for i in x]\n",
    "y"
   ]
  },
  {
   "cell_type": "code",
   "execution_count": 43,
   "id": "e04fc3ea",
   "metadata": {},
   "outputs": [
    {
     "data": {
      "image/png": "[encoded data removed]",
      "text/plain": [
       "<Figure size 432x288 with 1 Axes>"
      ]
     },
     "metadata": {
      "needs_background": "light"
     },
     "output_type": "display_data"
    }
   ],
   "source": [
    "plt.plot(x, y, color='red')\n",
    "plt.title('Step Function')\n",
    "plt.show()"
   ]
  },
  {
   "cell_type": "markdown",
   "id": "b0d93278",
   "metadata": {},
   "source": [
    "**2. Sigmoid Function:**\n",
    "Sigmoid function contains a **S-shaped** curve with range of 0-1\n",
    "\n",
    "Most popular form of sigmoid function is *Logistic function* which uses logarithmic functions:\n",
    "\n",
    "$$ f(x)=   \\frac {1} {1+e^{-x}}  $$\n",
    "\n"
   ]
  },
  {
   "cell_type": "code",
   "execution_count": 37,
   "id": "c0b59d67",
   "metadata": {},
   "outputs": [],
   "source": [
    "def sigmoid(x):\n",
    "    return 1/(1+math.e**(-x))"
   ]
  },
  {
   "cell_type": "code",
   "execution_count": 40,
   "id": "288608d4",
   "metadata": {},
   "outputs": [
    {
     "data": {
      "text/plain": [
       "[0.00033535013046647827,\n",
       " 0.0007460288338366972,\n",
       " 0.00368423989943599,\n",
       " 0.06913842034334682,\n",
       " 0.09975048911968513,\n",
       " 0.11920292202211757,\n",
       " 0.15446526508353473,\n",
       " 0.19781611144141828,\n",
       " 0.2141650169574414,\n",
       " 0.28905049737499605,\n",
       " 0.35434369377420455,\n",
       " 0.5,\n",
       " 0.7310585786300049,\n",
       " 0.8909031788043871,\n",
       " 0.9478464369215823,\n",
       " 0.9836975006285591,\n",
       " 0.9933071490757153,\n",
       " 0.9939401985084158,\n",
       " 0.9975273768433653,\n",
       " 0.9989932291799144,\n",
       " 0.9990889488055994,\n",
       " 0.9991755753136017]"
      ]
     },
     "execution_count": 40,
     "metadata": {},
     "output_type": "execute_result"
    }
   ],
   "source": [
    "#output\n",
    "\n",
    "y= [sigmoid(i) for i in x]\n",
    "y"
   ]
  },
  {
   "cell_type": "code",
   "execution_count": 41,
   "id": "afbb1ad2",
   "metadata": {},
   "outputs": [
    {
     "data": {
      "image/png": "[encoded data removed]",
      "text/plain": [
       "<Figure size 432x288 with 1 Axes>"
      ]
     },
     "metadata": {
      "needs_background": "light"
     },
     "output_type": "display_data"
    }
   ],
   "source": [
    "plt.plot(x, y, color='blue')\n",
    "plt.title('Logistic Function')\n",
    "plt.show()"
   ]
  },
  {
   "cell_type": "markdown",
   "id": "dda14ee8",
   "metadata": {},
   "source": [
    "**3. ReLU:** ReLU or Rectified Linear Unit check the maximum value between **x<sub>inp</sub>** and **0**:\n",
    "\n",
    "$$ f(x) = \\max(0, x_{inp})$$"
   ]
  },
  {
   "cell_type": "code",
   "execution_count": 44,
   "id": "bdeef8e2",
   "metadata": {},
   "outputs": [
    {
     "data": {
      "text/plain": [
       "[0, 0, 0, 0, 0, 0, 0, 0, 0, 0, 0, 0, 1, 2.1, 2.9, 4.1, 5, 5.1, 6, 6.9, 7, 7.1]"
      ]
     },
     "execution_count": 44,
     "metadata": {},
     "output_type": "execute_result"
    }
   ],
   "source": [
    "#output\n",
    "\n",
    "y = [max(0, i) for i in x]\n",
    "y"
   ]
  },
  {
   "cell_type": "code",
   "execution_count": 46,
   "id": "a28415d8",
   "metadata": {},
   "outputs": [
    {
     "data": {
      "image/png": "[encoded data removed]",
      "text/plain": [
       "<Figure size 432x288 with 1 Axes>"
      ]
     },
     "metadata": {
      "needs_background": "light"
     },
     "output_type": "display_data"
    }
   ],
   "source": [
    "plt.plot(x, y, color = 'brown')\n",
    "plt.title('ReLU')\n",
    "plt.show()"
   ]
  },
  {
   "cell_type": "code",
   "execution_count": null,
   "id": "31bcf50d",
   "metadata": {},
   "outputs": [],
   "source": []
  }
 ],
 "metadata": {
  "kernelspec": {
   "display_name": "Python 3 (ipykernel)",
   "language": "python",
   "name": "python3"
  },
  "language_info": {
   "codemirror_mode": {
    "name": "ipython",
    "version": 3
   },
   "file_extension": ".py",
   "mimetype": "text/x-python",
   "name": "python",
   "nbconvert_exporter": "python",
   "pygments_lexer": "ipython3",
   "version": "3.10.4"
  }
 },
 "nbformat": 4,
 "nbformat_minor": 5
}
